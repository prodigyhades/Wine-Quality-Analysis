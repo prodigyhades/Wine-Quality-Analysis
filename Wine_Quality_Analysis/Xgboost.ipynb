{
  "cells": [
    {
      "cell_type": "markdown",
      "metadata": {
        "id": "VaMexPHNOg7h"
      },
      "source": [
        "#### **NOTE**\n",
        "#### **Quality ≥ 7: Good quality wine**\n",
        "#### **Quality < 7: Bad quality wine**"
      ],
      "id": "VaMexPHNOg7h"
    },
    {
      "cell_type": "code",
      "execution_count": 1,
      "metadata": {
        "colab": {
          "base_uri": "https://localhost:8080/"
        },
        "id": "4fea001f",
        "outputId": "665db538-d92b-4a2f-faa5-055fa258e42a"
      },
      "outputs": [
        {
          "output_type": "stream",
          "name": "stdout",
          "text": [
            "Accuracy: 94.0625\n",
            "\n",
            "Classification Report:\n",
            "              precision    recall  f1-score   support\n",
            "\n",
            "           0       0.96      0.98      0.97       283\n",
            "           1       0.80      0.65      0.72        37\n",
            "\n",
            "    accuracy                           0.94       320\n",
            "   macro avg       0.88      0.81      0.84       320\n",
            "weighted avg       0.94      0.94      0.94       320\n",
            "\n",
            "\n",
            "Do you want to enter your own data? (y/n): y\n",
            "\n",
            "Enter value of 'fixed acidity': 7.3\n",
            "\n",
            "Enter value of 'volatile acidity': 0.65\n",
            "\n",
            "Enter value of 'citric acid': 0\n",
            "\n",
            "Enter value of 'residual sugar': 1.2\n",
            "\n",
            "Enter value of 'chlorides': 0.065\n",
            "\n",
            "Enter value of 'free sulfur dioxide': 15\n",
            "\n",
            "Enter value of 'total sulfur dioxide': 21\n",
            "\n",
            "Enter value of 'density': 0.9946\n",
            "\n",
            "Enter value of 'pH': 3.39\n",
            "\n",
            "Enter value of 'sulphates': 0.47\n",
            "\n",
            "Enter value of 'alcohol': 10\n",
            "\n",
            "GOOD QUALITY WINE (QUALITY >= 7)\n"
          ]
        }
      ],
      "source": [
        "import numpy as np\n",
        "import pandas as pd\n",
        "import xgboost as xgb\n",
        "from sklearn.model_selection import train_test_split\n",
        "from sklearn.metrics import accuracy_score, classification_report\n",
        "\n",
        "def load_data(file_path):\n",
        "    return pd.read_excel(file_path)\n",
        "\n",
        "def preprocess_data(data):\n",
        "    X = data.drop(['quality'], axis=1)\n",
        "    return X\n",
        "\n",
        "def label_encode_quality(quality):\n",
        "    return quality.apply(lambda value: 1 if value >= 7 else 0)\n",
        "\n",
        "def train_xgboost_model(X_train, y_train):\n",
        "    model = xgb.XGBClassifier(\n",
        "        objective='binary:logistic',\n",
        "        max_depth=4,\n",
        "        learning_rate=0.3,\n",
        "        n_estimators=100,\n",
        "        eval_metric='logloss'\n",
        "    )\n",
        "    model.fit(X_train, y_train)\n",
        "    return model\n",
        "\n",
        "def evaluate_model(model, X_test, y_test):\n",
        "    y_pred = model.predict(X_test)\n",
        "    accuracy = accuracy_score(y_test, y_pred)\n",
        "    print(f\"Accuracy: {accuracy*100}\")\n",
        "    print(\"\\nClassification Report:\")\n",
        "    print(classification_report(y_test, y_pred))\n",
        "\n",
        "def classify_wine_quality(model, input_data):\n",
        "    input_numpy_array = np.asarray(input_data)\n",
        "    input_data_reshaped = input_numpy_array.reshape(1, -1)\n",
        "    prediction = model.predict(input_data_reshaped)\n",
        "\n",
        "    if prediction[0] == 1:\n",
        "        print('\\nGOOD QUALITY WINE (QUALITY >= 7)')\n",
        "    else:\n",
        "        print('\\nBAD QUALITY WINE (QUALITY < 7)')\n",
        "\n",
        "def main():\n",
        "    file_path = '/content/drive/MyDrive/corizo_projects/WineQuality/wineData.xlsx'\n",
        "    wine_data = load_data(file_path)\n",
        "    X = preprocess_data(wine_data)\n",
        "    y = label_encode_quality(wine_data['quality'])\n",
        "\n",
        "    X_train, X_test, y_train, y_test = train_test_split(X, y, test_size=0.2, random_state=3)\n",
        "\n",
        "    model = train_xgboost_model(X_train, y_train)\n",
        "    evaluate_model(model, X_test, y_test)\n",
        "    user_input = input(\"\\nDo you want to enter your own data? (y/n): \")\n",
        "\n",
        "    if user_input.lower() == 'y':\n",
        "        input_data = [float(input(f\"\\nEnter value of '{column}': \")) for column in X.columns]\n",
        "    else:\n",
        "        input_data = [7.4, 0.70, 0.00, 1.9, 0.076, 11.0, 34.0, 0.9978, 3.51, 0.56, 9.4] #Sample Input\n",
        "        print(\"\\nUsing sample input:\\n\", input_data)\n",
        "    classify_wine_quality(model, input_data)\n",
        "\n",
        "main()"
      ],
      "id": "4fea001f"
    }
  ],
  "metadata": {
    "colab": {
      "provenance": []
    },
    "kernelspec": {
      "display_name": "Python 3 (ipykernel)",
      "language": "python",
      "name": "python3"
    },
    "language_info": {
      "codemirror_mode": {
        "name": "ipython",
        "version": 3
      },
      "file_extension": ".py",
      "mimetype": "text/x-python",
      "name": "python",
      "nbconvert_exporter": "python",
      "pygments_lexer": "ipython3",
      "version": "3.9.7"
    }
  },
  "nbformat": 4,
  "nbformat_minor": 5
}